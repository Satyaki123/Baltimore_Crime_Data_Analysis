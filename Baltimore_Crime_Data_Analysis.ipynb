{
 "cells": [
  {
   "cell_type": "code",
   "execution_count": 150,
   "metadata": {},
   "outputs": [],
   "source": [
    "import pandas as pd\n",
    "import matplotlib.pyplot as plt"
   ]
  },
  {
   "cell_type": "code",
   "execution_count": 151,
   "metadata": {},
   "outputs": [
    {
     "data": {
      "text/html": [
       "<div>\n",
       "<style scoped>\n",
       "    .dataframe tbody tr th:only-of-type {\n",
       "        vertical-align: middle;\n",
       "    }\n",
       "\n",
       "    .dataframe tbody tr th {\n",
       "        vertical-align: top;\n",
       "    }\n",
       "\n",
       "    .dataframe thead th {\n",
       "        text-align: right;\n",
       "    }\n",
       "</style>\n",
       "<table border=\"1\" class=\"dataframe\">\n",
       "  <thead>\n",
       "    <tr style=\"text-align: right;\">\n",
       "      <th></th>\n",
       "      <th>CrimeDate</th>\n",
       "      <th>CrimeTime</th>\n",
       "      <th>CrimeCode</th>\n",
       "      <th>Location</th>\n",
       "      <th>Description</th>\n",
       "      <th>Weapon</th>\n",
       "      <th>Post</th>\n",
       "      <th>District</th>\n",
       "      <th>Neighborhood</th>\n",
       "      <th>Location 1</th>\n",
       "      <th>Total Incidents</th>\n",
       "    </tr>\n",
       "  </thead>\n",
       "  <tbody>\n",
       "    <tr>\n",
       "      <th>0</th>\n",
       "      <td>09/24/2012</td>\n",
       "      <td>00:00:00</td>\n",
       "      <td>9S</td>\n",
       "      <td>2100 VINE ST</td>\n",
       "      <td>Outside</td>\n",
       "      <td>FIREARM</td>\n",
       "      <td>714.0</td>\n",
       "      <td>WESTERN</td>\n",
       "      <td>Penrose/Fayette Street Outreach</td>\n",
       "      <td>(39.2899300000, -76.6503900000)</td>\n",
       "      <td>1</td>\n",
       "    </tr>\n",
       "    <tr>\n",
       "      <th>1</th>\n",
       "      <td>01/07/2016</td>\n",
       "      <td>23:59:00</td>\n",
       "      <td>9S</td>\n",
       "      <td>700 E EAGER ST</td>\n",
       "      <td>Inside</td>\n",
       "      <td>FIREARM</td>\n",
       "      <td>311.0</td>\n",
       "      <td>EASTERN</td>\n",
       "      <td>Johnston Square</td>\n",
       "      <td>(39.3013900000, -76.6071300000)</td>\n",
       "      <td>1</td>\n",
       "    </tr>\n",
       "    <tr>\n",
       "      <th>2</th>\n",
       "      <td>06/15/2015</td>\n",
       "      <td>23:59:00</td>\n",
       "      <td>1F</td>\n",
       "      <td>2700 HARLEM AV</td>\n",
       "      <td>Outside</td>\n",
       "      <td>FIREARM</td>\n",
       "      <td>721.0</td>\n",
       "      <td>WESTERN</td>\n",
       "      <td>Mosher</td>\n",
       "      <td>(39.2955400000, -76.6617100000)</td>\n",
       "      <td>1</td>\n",
       "    </tr>\n",
       "    <tr>\n",
       "      <th>3</th>\n",
       "      <td>09/12/2014</td>\n",
       "      <td>23:59:00</td>\n",
       "      <td>9S</td>\n",
       "      <td>4000 PALL MALL RD</td>\n",
       "      <td>Inside</td>\n",
       "      <td>FIREARM</td>\n",
       "      <td>533.0</td>\n",
       "      <td>NORTHERN</td>\n",
       "      <td>Greenspring</td>\n",
       "      <td>(39.3356800000, -76.6599800000)</td>\n",
       "      <td>1</td>\n",
       "    </tr>\n",
       "    <tr>\n",
       "      <th>4</th>\n",
       "      <td>06/15/2013</td>\n",
       "      <td>23:59:00</td>\n",
       "      <td>9S</td>\n",
       "      <td>400 BRUNSWICK ST</td>\n",
       "      <td>Outside</td>\n",
       "      <td>FIREARM</td>\n",
       "      <td>841.0</td>\n",
       "      <td>SOUTHWESTERN</td>\n",
       "      <td>Millhill</td>\n",
       "      <td>(39.2806100000, -76.6601500000)</td>\n",
       "      <td>1</td>\n",
       "    </tr>\n",
       "  </tbody>\n",
       "</table>\n",
       "</div>"
      ],
      "text/plain": [
       "    CrimeDate CrimeTime CrimeCode           Location Description   Weapon  \\\n",
       "0  09/24/2012  00:00:00        9S       2100 VINE ST     Outside  FIREARM   \n",
       "1  01/07/2016  23:59:00        9S     700 E EAGER ST      Inside  FIREARM   \n",
       "2  06/15/2015  23:59:00        1F     2700 HARLEM AV     Outside  FIREARM   \n",
       "3  09/12/2014  23:59:00        9S  4000 PALL MALL RD      Inside  FIREARM   \n",
       "4  06/15/2013  23:59:00        9S   400 BRUNSWICK ST     Outside  FIREARM   \n",
       "\n",
       "    Post      District                     Neighborhood  \\\n",
       "0  714.0       WESTERN  Penrose/Fayette Street Outreach   \n",
       "1  311.0       EASTERN                  Johnston Square   \n",
       "2  721.0       WESTERN                           Mosher   \n",
       "3  533.0      NORTHERN                      Greenspring   \n",
       "4  841.0  SOUTHWESTERN                         Millhill   \n",
       "\n",
       "                        Location 1  Total Incidents  \n",
       "0  (39.2899300000, -76.6503900000)                1  \n",
       "1  (39.3013900000, -76.6071300000)                1  \n",
       "2  (39.2955400000, -76.6617100000)                1  \n",
       "3  (39.3356800000, -76.6599800000)                1  \n",
       "4  (39.2806100000, -76.6601500000)                1  "
      ]
     },
     "execution_count": 151,
     "metadata": {},
     "output_type": "execute_result"
    }
   ],
   "source": [
    "baltimore_Crime_data = pd.read_csv('BPD_Part_1_Victim_Based_Crime_Data (1).csv')\n",
    "baltimore_Crime_data_table = pd.DataFrame(baltimore_Crime_data)\n",
    "baltimore_Crime_data_table.head()"
   ]
  },
  {
   "cell_type": "code",
   "execution_count": 152,
   "metadata": {},
   "outputs": [
    {
     "data": {
      "text/html": [
       "<div>\n",
       "<style scoped>\n",
       "    .dataframe tbody tr th:only-of-type {\n",
       "        vertical-align: middle;\n",
       "    }\n",
       "\n",
       "    .dataframe tbody tr th {\n",
       "        vertical-align: top;\n",
       "    }\n",
       "\n",
       "    .dataframe thead th {\n",
       "        text-align: right;\n",
       "    }\n",
       "</style>\n",
       "<table border=\"1\" class=\"dataframe\">\n",
       "  <thead>\n",
       "    <tr style=\"text-align: right;\">\n",
       "      <th></th>\n",
       "      <th>CrimeDate</th>\n",
       "      <th>CrimeTime</th>\n",
       "      <th>CrimeCode</th>\n",
       "      <th>Location</th>\n",
       "      <th>Description</th>\n",
       "      <th>Weapon</th>\n",
       "      <th>Post</th>\n",
       "      <th>District</th>\n",
       "      <th>Neighborhood</th>\n",
       "      <th>Location 1</th>\n",
       "      <th>Total Incidents</th>\n",
       "    </tr>\n",
       "  </thead>\n",
       "  <tbody>\n",
       "    <tr>\n",
       "      <th>264491</th>\n",
       "      <td>01/05/2011</td>\n",
       "      <td>00:00:00</td>\n",
       "      <td>7A</td>\n",
       "      <td>4100 BRENDAN AV</td>\n",
       "      <td>O</td>\n",
       "      <td>NaN</td>\n",
       "      <td>432.0</td>\n",
       "      <td>NORTHEASTERN</td>\n",
       "      <td>Belair-Edison</td>\n",
       "      <td>(39.3141400000, -76.5664700000)</td>\n",
       "      <td>1</td>\n",
       "    </tr>\n",
       "    <tr>\n",
       "      <th>264492</th>\n",
       "      <td>01/04/2011</td>\n",
       "      <td>00:00:00</td>\n",
       "      <td>4E</td>\n",
       "      <td>5500 BOWLEYS LA</td>\n",
       "      <td>I</td>\n",
       "      <td>HANDS</td>\n",
       "      <td>443.0</td>\n",
       "      <td>NORTHEASTERN</td>\n",
       "      <td>Frankford</td>\n",
       "      <td>(39.3189200000, -76.5516100000)</td>\n",
       "      <td>1</td>\n",
       "    </tr>\n",
       "    <tr>\n",
       "      <th>264493</th>\n",
       "      <td>01/02/2011</td>\n",
       "      <td>00:00:00</td>\n",
       "      <td>6D</td>\n",
       "      <td>3700 BANCROFT RD</td>\n",
       "      <td>O</td>\n",
       "      <td>NaN</td>\n",
       "      <td>632.0</td>\n",
       "      <td>NORTHWESTERN</td>\n",
       "      <td>Glen</td>\n",
       "      <td>(39.3589600000, -76.6993600000)</td>\n",
       "      <td>1</td>\n",
       "    </tr>\n",
       "    <tr>\n",
       "      <th>264494</th>\n",
       "      <td>01/01/2011</td>\n",
       "      <td>00:00:00</td>\n",
       "      <td>6G</td>\n",
       "      <td>0 E CROSS ST</td>\n",
       "      <td>I</td>\n",
       "      <td>NaN</td>\n",
       "      <td>942.0</td>\n",
       "      <td>SOUTHERN</td>\n",
       "      <td>Federal Hill</td>\n",
       "      <td>(39.2769600000, -76.6133800000)</td>\n",
       "      <td>1</td>\n",
       "    </tr>\n",
       "    <tr>\n",
       "      <th>264495</th>\n",
       "      <td>01/01/2011</td>\n",
       "      <td>00:00:00</td>\n",
       "      <td>6E</td>\n",
       "      <td>2700 HARLEM AV</td>\n",
       "      <td>O</td>\n",
       "      <td>NaN</td>\n",
       "      <td>721.0</td>\n",
       "      <td>WESTERN</td>\n",
       "      <td>Mosher</td>\n",
       "      <td>(39.2956000000, -76.6615600000)</td>\n",
       "      <td>1</td>\n",
       "    </tr>\n",
       "  </tbody>\n",
       "</table>\n",
       "</div>"
      ],
      "text/plain": [
       "         CrimeDate CrimeTime CrimeCode          Location Description Weapon  \\\n",
       "264491  01/05/2011  00:00:00        7A   4100 BRENDAN AV           O    NaN   \n",
       "264492  01/04/2011  00:00:00        4E   5500 BOWLEYS LA           I  HANDS   \n",
       "264493  01/02/2011  00:00:00        6D  3700 BANCROFT RD           O    NaN   \n",
       "264494  01/01/2011  00:00:00        6G      0 E CROSS ST           I    NaN   \n",
       "264495  01/01/2011  00:00:00        6E    2700 HARLEM AV           O    NaN   \n",
       "\n",
       "         Post      District   Neighborhood                       Location 1  \\\n",
       "264491  432.0  NORTHEASTERN  Belair-Edison  (39.3141400000, -76.5664700000)   \n",
       "264492  443.0  NORTHEASTERN      Frankford  (39.3189200000, -76.5516100000)   \n",
       "264493  632.0  NORTHWESTERN           Glen  (39.3589600000, -76.6993600000)   \n",
       "264494  942.0      SOUTHERN   Federal Hill  (39.2769600000, -76.6133800000)   \n",
       "264495  721.0       WESTERN         Mosher  (39.2956000000, -76.6615600000)   \n",
       "\n",
       "        Total Incidents  \n",
       "264491                1  \n",
       "264492                1  \n",
       "264493                1  \n",
       "264494                1  \n",
       "264495                1  "
      ]
     },
     "execution_count": 152,
     "metadata": {},
     "output_type": "execute_result"
    }
   ],
   "source": [
    "baltimore_Crime_data_table.tail()"
   ]
  },
  {
   "cell_type": "code",
   "execution_count": 153,
   "metadata": {
    "scrolled": true
   },
   "outputs": [
    {
     "name": "stdout",
     "output_type": "stream",
     "text": [
      "264496\n"
     ]
    }
   ],
   "source": [
    "print(sum(baltimore_Crime_data_table['Total Incidents']))"
   ]
  },
  {
   "cell_type": "code",
   "execution_count": 154,
   "metadata": {},
   "outputs": [],
   "source": [
    "District_wise_collect = baltimore_Crime_data_table.groupby(['District'] ).sum()"
   ]
  },
  {
   "cell_type": "code",
   "execution_count": 155,
   "metadata": {},
   "outputs": [],
   "source": [
    "District_wise_collect.reset_index(inplace=True)"
   ]
  },
  {
   "cell_type": "code",
   "execution_count": 156,
   "metadata": {},
   "outputs": [
    {
     "data": {
      "image/png": "[encoded data removed]",
      "text/plain": [
       "<Figure size 432x288 with 1 Axes>"
      ]
     },
     "metadata": {
      "needs_background": "light"
     },
     "output_type": "display_data"
    }
   ],
   "source": [
    "plt.bar(District_wise_collect['District'], District_wise_collect['Total Incidents'], width = 0.3)\n",
    "plt.xticks(rotation=90)\n",
    "plt.title('District vs No of Crimes')\n",
    "plt.ylabel('No of Crimes')\n",
    "plt.xlabel('Disticts')\n",
    "plt.show()"
   ]
  },
  {
   "cell_type": "code",
   "execution_count": 157,
   "metadata": {},
   "outputs": [],
   "source": [
    "weapons_used = baltimore_Crime_data_table.groupby(['Weapon']).sum()\n",
    "weapons_used.reset_index(inplace=True)\n"
   ]
  },
  {
   "cell_type": "code",
   "execution_count": 158,
   "metadata": {},
   "outputs": [
    {
     "data": {
      "image/png": "[encoded data removed]",
      "text/plain": [
       "<Figure size 432x288 with 1 Axes>"
      ]
     },
     "metadata": {
      "needs_background": "light"
     },
     "output_type": "display_data"
    }
   ],
   "source": [
    "plt.bar(weapons_used['Weapon'],weapons_used['Total Incidents'], width = 0.3)\n",
    "plt.title('Weapons used')\n",
    "plt.ylabel('No of Crimes')\n",
    "plt.xlabel('Weapons')\n",
    "plt.show()"
   ]
  },
  {
   "cell_type": "code",
   "execution_count": 159,
   "metadata": {},
   "outputs": [],
   "source": [
    "Crime_code = baltimore_Crime_data_table.groupby(['CrimeCode']).sum()\n",
    "Crime_code.reset_index(inplace = True)"
   ]
  },
  {
   "cell_type": "code",
   "execution_count": 160,
   "metadata": {},
   "outputs": [],
   "source": [
    "max_crime = Crime_code.loc[Crime_code['Total Incidents'] == max(Crime_code['Total Incidents'])]\n",
    "min_crime = Crime_code.loc[Crime_code['Total Incidents'] == min(Crime_code['Total Incidents'])]"
   ]
  },
  {
   "cell_type": "code",
   "execution_count": 161,
   "metadata": {},
   "outputs": [],
   "source": [
    "Crimecode_list = max_crime['CrimeCode'].to_list()\n",
    "Crimecode_list1 = min_crime['CrimeCode'].to_list()\n",
    "final_Crimecode_list = Crimecode_list + Crimecode_list1"
   ]
  },
  {
   "cell_type": "code",
   "execution_count": 162,
   "metadata": {},
   "outputs": [],
   "source": [
    "Crime_Incidents = max_crime['Total Incidents'].to_list()\n",
    "Crime_Incidents1 = min_crime['Total Incidents'].to_list()\n",
    "final_Incidents_list = Crime_Incidents +  Crime_Incidents1"
   ]
  },
  {
   "cell_type": "code",
   "execution_count": 163,
   "metadata": {},
   "outputs": [],
   "source": [
    "Crime_by_Neighbourhood = baltimore_Crime_data_table.groupby(['Neighborhood']).sum()\n",
    "Crime_by_Neighbourhood.reset_index(inplace = True)\n",
    "Crime_by_Neighbourhood.columns = Crime_by_Neighbourhood.columns.str.replace(' ', '')\n",
    "max_Crime_neighbourhood = Crime_by_Neighbourhood.loc[Crime_by_Neighbourhood['TotalIncidents'] == max(Crime_by_Neighbourhood['TotalIncidents'])]\n",
    "min_Crime_neighbourhood = Crime_by_Neighbourhood.loc[Crime_by_Neighbourhood['TotalIncidents'] == min(Crime_by_Neighbourhood['TotalIncidents'])]"
   ]
  },
  {
   "cell_type": "code",
   "execution_count": 164,
   "metadata": {
    "scrolled": false
   },
   "outputs": [
    {
     "data": {
      "image/png": "[encoded data removed]",
      "text/plain": [
       "<Figure size 432x288 with 1 Axes>"
      ]
     },
     "metadata": {
      "needs_background": "light"
     },
     "output_type": "display_data"
    }
   ],
   "source": [
    "\n",
    "plt.bar(final_Crimecode_list,final_Incidents_list, width = 0.3)\n",
    "plt.title('Max and Min type of Crimes')\n",
    "plt.ylabel('No of Crimes')\n",
    "plt.xlabel('Crime Code')\n",
    "plt.show()"
   ]
  },
  {
   "cell_type": "code",
   "execution_count": 165,
   "metadata": {},
   "outputs": [
    {
     "name": "stdout",
     "output_type": "stream",
     "text": [
      "The maximum Crime takes place in Downtown Neighbourhood and the total no of crimes are 8890\n"
     ]
    }
   ],
   "source": [
    "print('The maximum Crime takes place in', max_Crime_neighbourhood['Neighborhood'].iloc[0], 'Neighbourhood ' 'and the total no of crimes are',max_Crime_neighbourhood['TotalIncidents'].iloc[0])"
   ]
  },
  {
   "cell_type": "code",
   "execution_count": 166,
   "metadata": {},
   "outputs": [
    {
     "name": "stdout",
     "output_type": "stream",
     "text": [
      "The minimum Crime and safest Neighbourhood is Dundalk Marine Terminal and the total no of crimes are 1\n"
     ]
    }
   ],
   "source": [
    "print('The minimum Crime and safest Neighbourhood is', min_Crime_neighbourhood['Neighborhood'].iloc[0], 'and the total no of crimes are',min_Crime_neighbourhood['TotalIncidents'].iloc[0])"
   ]
  },
  {
   "cell_type": "code",
   "execution_count": 167,
   "metadata": {},
   "outputs": [
    {
     "name": "stdout",
     "output_type": "stream",
     "text": [
      "To view all the data please execute this cell\n"
     ]
    }
   ],
   "source": [
    "print('To view all the data please execute this cell')\n",
    "#Crime_by_Neighbourhood"
   ]
  },
  {
   "cell_type": "code",
   "execution_count": 168,
   "metadata": {},
   "outputs": [],
   "source": [
    "baltimore_Crime_data_table['dateandtime'] = baltimore_Crime_data_table['CrimeDate'] + baltimore_Crime_data_table['CrimeTime']\n"
   ]
  },
  {
   "cell_type": "code",
   "execution_count": 169,
   "metadata": {},
   "outputs": [],
   "source": [
    "baltimore_Crime_data_table['dateandtime'] = pd.to_datetime(baltimore_Crime_data_table['dateandtime'],format = '%m/%d/%Y%H:%M:%S')"
   ]
  },
  {
   "cell_type": "code",
   "execution_count": 170,
   "metadata": {},
   "outputs": [],
   "source": [
    "baltimore_Crime_data_table['dateandtime'] = baltimore_Crime_data_table['dateandtime'].replace(['08/03/20110'],'08/03/201100:00:00')"
   ]
  },
  {
   "cell_type": "code",
   "execution_count": 171,
   "metadata": {},
   "outputs": [],
   "source": [
    "#baltimore_Crime_data_table.set_index(keys = 'dateandtime',inplace = True)"
   ]
  },
  {
   "cell_type": "code",
   "execution_count": 172,
   "metadata": {},
   "outputs": [],
   "source": [
    "baltimore_Crime_data_table.sort_values(['dateandtime'],axis = 0,ascending=False, inplace = True)"
   ]
  },
  {
   "cell_type": "code",
   "execution_count": 173,
   "metadata": {},
   "outputs": [],
   "source": [
    "Incident_Description = baltimore_Crime_data_table.groupby(['Description']).sum()"
   ]
  },
  {
   "cell_type": "code",
   "execution_count": 174,
   "metadata": {},
   "outputs": [
    {
     "data": {
      "text/html": [
       "<div>\n",
       "<style scoped>\n",
       "    .dataframe tbody tr th:only-of-type {\n",
       "        vertical-align: middle;\n",
       "    }\n",
       "\n",
       "    .dataframe tbody tr th {\n",
       "        vertical-align: top;\n",
       "    }\n",
       "\n",
       "    .dataframe thead th {\n",
       "        text-align: right;\n",
       "    }\n",
       "</style>\n",
       "<table border=\"1\" class=\"dataframe\">\n",
       "  <thead>\n",
       "    <tr style=\"text-align: right;\">\n",
       "      <th></th>\n",
       "      <th>Description</th>\n",
       "      <th>Post</th>\n",
       "      <th>Total Incidents</th>\n",
       "    </tr>\n",
       "  </thead>\n",
       "  <tbody>\n",
       "    <tr>\n",
       "      <th>0</th>\n",
       "      <td>I</td>\n",
       "      <td>67127612.0</td>\n",
       "      <td>132331</td>\n",
       "    </tr>\n",
       "    <tr>\n",
       "      <th>1</th>\n",
       "      <td>Inside</td>\n",
       "      <td>331691.0</td>\n",
       "      <td>637</td>\n",
       "    </tr>\n",
       "    <tr>\n",
       "      <th>2</th>\n",
       "      <td>O</td>\n",
       "      <td>61802108.0</td>\n",
       "      <td>124346</td>\n",
       "    </tr>\n",
       "    <tr>\n",
       "      <th>3</th>\n",
       "      <td>Outside</td>\n",
       "      <td>1791942.0</td>\n",
       "      <td>3131</td>\n",
       "    </tr>\n",
       "  </tbody>\n",
       "</table>\n",
       "</div>"
      ],
      "text/plain": [
       "  Description        Post  Total Incidents\n",
       "0           I  67127612.0           132331\n",
       "1      Inside    331691.0              637\n",
       "2           O  61802108.0           124346\n",
       "3     Outside   1791942.0             3131"
      ]
     },
     "execution_count": 174,
     "metadata": {},
     "output_type": "execute_result"
    }
   ],
   "source": [
    "Incident_Description.reset_index()"
   ]
  },
  {
   "cell_type": "code",
   "execution_count": 175,
   "metadata": {},
   "outputs": [],
   "source": [
    "inside_Dataframe = Incident_Description.iloc[[0, 1]].reset_index()\n",
    "outside_Dataframe =Incident_Description.iloc[[2, 3]].reset_index()"
   ]
  },
  {
   "cell_type": "code",
   "execution_count": 176,
   "metadata": {},
   "outputs": [],
   "source": [
    "Total_outside = outside_Dataframe['Total Incidents'].sum()\n",
    "Total_inside = inside_Dataframe['Total Incidents'].sum()"
   ]
  },
  {
   "cell_type": "code",
   "execution_count": 177,
   "metadata": {},
   "outputs": [
    {
     "data": {
      "image/png": "[encoded data removed]",
      "text/plain": [
       "<Figure size 432x288 with 1 Axes>"
      ]
     },
     "metadata": {
      "needs_background": "light"
     },
     "output_type": "display_data"
    }
   ],
   "source": [
    "plt.bar(['Outside','Inside'],[Total_outside,Total_inside], width = 0.3 , align = 'center')\n",
    "plt.title('Crime Description')\n",
    "plt.ylabel('No of Crimes')\n",
    "plt.show()"
   ]
  },
  {
   "cell_type": "code",
   "execution_count": 178,
   "metadata": {},
   "outputs": [],
   "source": [
    "baltimore_Crime_data_table['CrimeTime'] = pd.to_datetime(baltimore_Crime_data_table['CrimeTime'],format = '%H:%M:%S')\n",
    "#baltimore_Crime_data_table['CrimeTime'] = baltimore_Crime_data_table['CrimeTime'].replace(['0'],'00:00:00')"
   ]
  },
  {
   "cell_type": "code",
   "execution_count": 179,
   "metadata": {},
   "outputs": [],
   "source": [
    "baltimore_Crime_data_table['hour'] = baltimore_Crime_data_table['CrimeTime'].dt.hour"
   ]
  },
  {
   "cell_type": "code",
   "execution_count": 180,
   "metadata": {},
   "outputs": [],
   "source": [
    "Most_crime_happen_at = baltimore_Crime_data_table.groupby(['hour']).sum()"
   ]
  },
  {
   "cell_type": "code",
   "execution_count": 181,
   "metadata": {},
   "outputs": [],
   "source": [
    "Most_crime_happen_at.reset_index(inplace = True)"
   ]
  },
  {
   "cell_type": "code",
   "execution_count": 182,
   "metadata": {},
   "outputs": [
    {
     "data": {
      "image/png": "[encoded data removed]",
      "text/plain": [
       "<Figure size 432x288 with 1 Axes>"
      ]
     },
     "metadata": {
      "needs_background": "light"
     },
     "output_type": "display_data"
    }
   ],
   "source": [
    "plt.plot(Most_crime_happen_at['hour'],Most_crime_happen_at['Total Incidents'])\n",
    "plt.xlabel('Time')\n",
    "plt.ylabel('Total No of Crimes')\n",
    "plt.title('No of Crimes during the day')\n",
    "plt.show()"
   ]
  },
  {
   "cell_type": "code",
   "execution_count": 183,
   "metadata": {},
   "outputs": [],
   "source": [
    "baltimore_Crime_data_table['Year'] = baltimore_Crime_data_table['dateandtime'].dt.year"
   ]
  },
  {
   "cell_type": "code",
   "execution_count": 184,
   "metadata": {},
   "outputs": [],
   "source": [
    "Year_wise_data = baltimore_Crime_data_table.groupby(['Year']).sum()"
   ]
  },
  {
   "cell_type": "code",
   "execution_count": 185,
   "metadata": {},
   "outputs": [],
   "source": [
    "Year_wise_data.reset_index(inplace = True)"
   ]
  },
  {
   "cell_type": "code",
   "execution_count": 186,
   "metadata": {},
   "outputs": [],
   "source": [
    "Year_wise_data.drop(['hour'], inplace = True, axis = 1)"
   ]
  },
  {
   "cell_type": "code",
   "execution_count": 187,
   "metadata": {
    "scrolled": true
   },
   "outputs": [
    {
     "data": {
      "image/png": "[encoded data removed]",
      "text/plain": [
       "<Figure size 432x288 with 1 Axes>"
      ]
     },
     "metadata": {
      "needs_background": "light"
     },
     "output_type": "display_data"
    }
   ],
   "source": [
    "plt.plot(Year_wise_data['Year'],Year_wise_data['Total Incidents'])\n",
    "plt.title('Year wise Crime data')\n",
    "plt.xlabel('Year')\n",
    "plt.ylabel('Total no of crimes')\n",
    "plt.show()"
   ]
  },
  {
   "cell_type": "code",
   "execution_count": 188,
   "metadata": {},
   "outputs": [],
   "source": [
    "Neighbourhood_year_data = baltimore_Crime_data_table.groupby(['Neighborhood','Year']).sum()"
   ]
  },
  {
   "cell_type": "code",
   "execution_count": 189,
   "metadata": {},
   "outputs": [
    {
     "data": {
      "text/html": [
       "<div>\n",
       "<style scoped>\n",
       "    .dataframe tbody tr th:only-of-type {\n",
       "        vertical-align: middle;\n",
       "    }\n",
       "\n",
       "    .dataframe tbody tr th {\n",
       "        vertical-align: top;\n",
       "    }\n",
       "\n",
       "    .dataframe thead th {\n",
       "        text-align: right;\n",
       "    }\n",
       "</style>\n",
       "<table border=\"1\" class=\"dataframe\">\n",
       "  <thead>\n",
       "    <tr style=\"text-align: right;\">\n",
       "      <th></th>\n",
       "      <th>Neighborhood</th>\n",
       "      <th>Year</th>\n",
       "      <th>Post</th>\n",
       "      <th>Total Incidents</th>\n",
       "      <th>hour</th>\n",
       "    </tr>\n",
       "  </thead>\n",
       "  <tbody>\n",
       "    <tr>\n",
       "      <th>0</th>\n",
       "      <td>Abell</td>\n",
       "      <td>2011</td>\n",
       "      <td>46170.0</td>\n",
       "      <td>90</td>\n",
       "      <td>1124</td>\n",
       "    </tr>\n",
       "    <tr>\n",
       "      <th>1</th>\n",
       "      <td>Abell</td>\n",
       "      <td>2012</td>\n",
       "      <td>65151.0</td>\n",
       "      <td>127</td>\n",
       "      <td>1645</td>\n",
       "    </tr>\n",
       "    <tr>\n",
       "      <th>2</th>\n",
       "      <td>Abell</td>\n",
       "      <td>2013</td>\n",
       "      <td>58995.0</td>\n",
       "      <td>115</td>\n",
       "      <td>1526</td>\n",
       "    </tr>\n",
       "    <tr>\n",
       "      <th>3</th>\n",
       "      <td>Abell</td>\n",
       "      <td>2014</td>\n",
       "      <td>75924.0</td>\n",
       "      <td>148</td>\n",
       "      <td>1799</td>\n",
       "    </tr>\n",
       "    <tr>\n",
       "      <th>4</th>\n",
       "      <td>Abell</td>\n",
       "      <td>2015</td>\n",
       "      <td>56430.0</td>\n",
       "      <td>110</td>\n",
       "      <td>1444</td>\n",
       "    </tr>\n",
       "    <tr>\n",
       "      <th>...</th>\n",
       "      <td>...</td>\n",
       "      <td>...</td>\n",
       "      <td>...</td>\n",
       "      <td>...</td>\n",
       "      <td>...</td>\n",
       "    </tr>\n",
       "    <tr>\n",
       "      <th>1654</th>\n",
       "      <td>York-Homeland</td>\n",
       "      <td>2012</td>\n",
       "      <td>12504.0</td>\n",
       "      <td>24</td>\n",
       "      <td>326</td>\n",
       "    </tr>\n",
       "    <tr>\n",
       "      <th>1655</th>\n",
       "      <td>York-Homeland</td>\n",
       "      <td>2013</td>\n",
       "      <td>14588.0</td>\n",
       "      <td>28</td>\n",
       "      <td>338</td>\n",
       "    </tr>\n",
       "    <tr>\n",
       "      <th>1656</th>\n",
       "      <td>York-Homeland</td>\n",
       "      <td>2014</td>\n",
       "      <td>15630.0</td>\n",
       "      <td>30</td>\n",
       "      <td>403</td>\n",
       "    </tr>\n",
       "    <tr>\n",
       "      <th>1657</th>\n",
       "      <td>York-Homeland</td>\n",
       "      <td>2015</td>\n",
       "      <td>20840.0</td>\n",
       "      <td>40</td>\n",
       "      <td>629</td>\n",
       "    </tr>\n",
       "    <tr>\n",
       "      <th>1658</th>\n",
       "      <td>York-Homeland</td>\n",
       "      <td>2016</td>\n",
       "      <td>7300.0</td>\n",
       "      <td>14</td>\n",
       "      <td>203</td>\n",
       "    </tr>\n",
       "  </tbody>\n",
       "</table>\n",
       "<p>1659 rows × 5 columns</p>\n",
       "</div>"
      ],
      "text/plain": [
       "       Neighborhood  Year     Post  Total Incidents  hour\n",
       "0             Abell  2011  46170.0               90  1124\n",
       "1             Abell  2012  65151.0              127  1645\n",
       "2             Abell  2013  58995.0              115  1526\n",
       "3             Abell  2014  75924.0              148  1799\n",
       "4             Abell  2015  56430.0              110  1444\n",
       "...             ...   ...      ...              ...   ...\n",
       "1654  York-Homeland  2012  12504.0               24   326\n",
       "1655  York-Homeland  2013  14588.0               28   338\n",
       "1656  York-Homeland  2014  15630.0               30   403\n",
       "1657  York-Homeland  2015  20840.0               40   629\n",
       "1658  York-Homeland  2016   7300.0               14   203\n",
       "\n",
       "[1659 rows x 5 columns]"
      ]
     },
     "execution_count": 189,
     "metadata": {},
     "output_type": "execute_result"
    }
   ],
   "source": [
    "Neighbourhood_year_data.reset_index()"
   ]
  },
  {
   "cell_type": "code",
   "execution_count": 190,
   "metadata": {},
   "outputs": [],
   "source": [
    "Neighbourhood_year_data.reset_index(inplace = True)"
   ]
  },
  {
   "cell_type": "code",
   "execution_count": 191,
   "metadata": {},
   "outputs": [],
   "source": [
    "def mapping(Neighbourhood):\n",
    "    if Neighbourhood in Neighbourhood_year_data['Neighborhood'].tolist():\n",
    "        yo = list(set(Neighbourhood_year_data['Year']))\n",
    "        yo.sort()\n",
    "        list_index = Neighbourhood_year_data.index[Neighbourhood_year_data['Neighborhood'] == Neighbourhood].tolist()\n",
    "        plt.bar(yo ,Neighbourhood_year_data['Total Incidents'][list_index].tolist())\n",
    "    else:\n",
    "        return False\n",
    "    \n"
   ]
  },
  {
   "cell_type": "code",
   "execution_count": 193,
   "metadata": {},
   "outputs": [
    {
     "name": "stdout",
     "output_type": "stream",
     "text": [
      "Write the Neighbourhood for which you want yearly data for Cedonia\n"
     ]
    },
    {
     "data": {
      "image/png": "[encoded data removed]",
      "text/plain": [
       "<Figure size 432x288 with 1 Axes>"
      ]
     },
     "metadata": {
      "needs_background": "light"
     },
     "output_type": "display_data"
    }
   ],
   "source": [
    "Neighbor = input('Write the Neighbourhood for which you want yearly data for ')\n",
    "mapping(Neighbor)"
   ]
  },
  {
   "cell_type": "code",
   "execution_count": null,
   "metadata": {},
   "outputs": [],
   "source": []
  }
 ],
 "metadata": {
  "kernelspec": {
   "display_name": "Python 3",
   "language": "python",
   "name": "python3"
  },
  "language_info": {
   "codemirror_mode": {
    "name": "ipython",
    "version": 3
   },
   "file_extension": ".py",
   "mimetype": "text/x-python",
   "name": "python",
   "nbconvert_exporter": "python",
   "pygments_lexer": "ipython3",
   "version": "3.8.5"
  }
 },
 "nbformat": 4,
 "nbformat_minor": 4
}
